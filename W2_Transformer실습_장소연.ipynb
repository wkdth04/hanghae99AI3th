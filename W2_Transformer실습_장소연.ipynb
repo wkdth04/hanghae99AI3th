{
  "cells": [
    {
      "cell_type": "markdown",
      "metadata": {
        "id": "view-in-github",
        "colab_type": "text"
      },
      "source": [
        "<a href=\"https://colab.research.google.com/github/wkdth04/hanghae99AI3th/blob/%EA%B3%BC%EC%A0%9C/(%EC%B5%9C%EC%A2%85)2%EC%A3%BC%EC%B0%A8_Transformer%EC%8B%A4%EC%8A%B5_%EC%9E%A5%EC%86%8C%EC%97%B0.ipynb\" target=\"_parent\"><img src=\"https://colab.research.google.com/assets/colab-badge.svg\" alt=\"Open In Colab\"/></a>"
      ]
    },
    {
      "cell_type": "markdown",
      "metadata": {
        "id": "2CX9-Gbyr7cN"
      },
      "source": []
    },
    {
      "cell_type": "code",
      "execution_count": null,
      "metadata": {
        "colab": {
          "base_uri": "https://localhost:8080/"
        },
        "id": "1X7RM2du1zcr",
        "outputId": "4b205f1e-d6c9-4a3a-cd04-abe8d4245e38"
      },
      "outputs": [
        {
          "name": "stdout",
          "output_type": "stream",
          "text": [
            "Requirement already satisfied: datasets in /usr/local/lib/python3.11/dist-packages (3.5.0)\n",
            "Requirement already satisfied: sacremoses in /usr/local/lib/python3.11/dist-packages (0.1.1)\n",
            "Requirement already satisfied: filelock in /usr/local/lib/python3.11/dist-packages (from datasets) (3.18.0)\n",
            "Requirement already satisfied: numpy>=1.17 in /usr/local/lib/python3.11/dist-packages (from datasets) (2.0.2)\n",
            "Requirement already satisfied: pyarrow>=15.0.0 in /usr/local/lib/python3.11/dist-packages (from datasets) (18.1.0)\n",
            "Requirement already satisfied: dill<0.3.9,>=0.3.0 in /usr/local/lib/python3.11/dist-packages (from datasets) (0.3.8)\n",
            "Requirement already satisfied: pandas in /usr/local/lib/python3.11/dist-packages (from datasets) (2.2.2)\n",
            "Requirement already satisfied: requests>=2.32.2 in /usr/local/lib/python3.11/dist-packages (from datasets) (2.32.3)\n",
            "Requirement already satisfied: tqdm>=4.66.3 in /usr/local/lib/python3.11/dist-packages (from datasets) (4.67.1)\n",
            "Requirement already satisfied: xxhash in /usr/local/lib/python3.11/dist-packages (from datasets) (3.5.0)\n",
            "Requirement already satisfied: multiprocess<0.70.17 in /usr/local/lib/python3.11/dist-packages (from datasets) (0.70.16)\n",
            "Requirement already satisfied: fsspec<=2024.12.0,>=2023.1.0 in /usr/local/lib/python3.11/dist-packages (from fsspec[http]<=2024.12.0,>=2023.1.0->datasets) (2024.12.0)\n",
            "Requirement already satisfied: aiohttp in /usr/local/lib/python3.11/dist-packages (from datasets) (3.11.14)\n",
            "Requirement already satisfied: huggingface-hub>=0.24.0 in /usr/local/lib/python3.11/dist-packages (from datasets) (0.29.3)\n",
            "Requirement already satisfied: packaging in /usr/local/lib/python3.11/dist-packages (from datasets) (24.2)\n",
            "Requirement already satisfied: pyyaml>=5.1 in /usr/local/lib/python3.11/dist-packages (from datasets) (6.0.2)\n",
            "Requirement already satisfied: regex in /usr/local/lib/python3.11/dist-packages (from sacremoses) (2024.11.6)\n",
            "Requirement already satisfied: click in /usr/local/lib/python3.11/dist-packages (from sacremoses) (8.1.8)\n",
            "Requirement already satisfied: joblib in /usr/local/lib/python3.11/dist-packages (from sacremoses) (1.4.2)\n",
            "Requirement already satisfied: aiohappyeyeballs>=2.3.0 in /usr/local/lib/python3.11/dist-packages (from aiohttp->datasets) (2.6.1)\n",
            "Requirement already satisfied: aiosignal>=1.1.2 in /usr/local/lib/python3.11/dist-packages (from aiohttp->datasets) (1.3.2)\n",
            "Requirement already satisfied: attrs>=17.3.0 in /usr/local/lib/python3.11/dist-packages (from aiohttp->datasets) (25.3.0)\n",
            "Requirement already satisfied: frozenlist>=1.1.1 in /usr/local/lib/python3.11/dist-packages (from aiohttp->datasets) (1.5.0)\n",
            "Requirement already satisfied: multidict<7.0,>=4.5 in /usr/local/lib/python3.11/dist-packages (from aiohttp->datasets) (6.2.0)\n",
            "Requirement already satisfied: propcache>=0.2.0 in /usr/local/lib/python3.11/dist-packages (from aiohttp->datasets) (0.3.1)\n",
            "Requirement already satisfied: yarl<2.0,>=1.17.0 in /usr/local/lib/python3.11/dist-packages (from aiohttp->datasets) (1.18.3)\n",
            "Requirement already satisfied: typing-extensions>=3.7.4.3 in /usr/local/lib/python3.11/dist-packages (from huggingface-hub>=0.24.0->datasets) (4.13.0)\n",
            "Requirement already satisfied: charset-normalizer<4,>=2 in /usr/local/lib/python3.11/dist-packages (from requests>=2.32.2->datasets) (3.4.1)\n",
            "Requirement already satisfied: idna<4,>=2.5 in /usr/local/lib/python3.11/dist-packages (from requests>=2.32.2->datasets) (3.10)\n",
            "Requirement already satisfied: urllib3<3,>=1.21.1 in /usr/local/lib/python3.11/dist-packages (from requests>=2.32.2->datasets) (2.3.0)\n",
            "Requirement already satisfied: certifi>=2017.4.17 in /usr/local/lib/python3.11/dist-packages (from requests>=2.32.2->datasets) (2025.1.31)\n",
            "Requirement already satisfied: python-dateutil>=2.8.2 in /usr/local/lib/python3.11/dist-packages (from pandas->datasets) (2.8.2)\n",
            "Requirement already satisfied: pytz>=2020.1 in /usr/local/lib/python3.11/dist-packages (from pandas->datasets) (2025.2)\n",
            "Requirement already satisfied: tzdata>=2022.7 in /usr/local/lib/python3.11/dist-packages (from pandas->datasets) (2025.2)\n",
            "Requirement already satisfied: six>=1.5 in /usr/local/lib/python3.11/dist-packages (from python-dateutil>=2.8.2->pandas->datasets) (1.17.0)\n"
          ]
        }
      ],
      "source": [
        "# 토큰화 및 텍스트 전처리 라이브러리로 Hugging Face Transformers라이브러리에서 사용하는 Moses Tokenizer기반 동작\n",
        "!pip install datasets sacremoses"
      ]
    },
    {
      "cell_type": "code",
      "execution_count": null,
      "metadata": {
        "colab": {
          "base_uri": "https://localhost:8080/"
        },
        "id": "HOdhoBVA1zcu",
        "outputId": "b754f89e-ff8f-44e5-86da-32c831b83aca"
      },
      "outputs": [
        {
          "name": "stderr",
          "output_type": "stream",
          "text": [
            "/usr/local/lib/python3.11/dist-packages/huggingface_hub/utils/_auth.py:94: UserWarning: \n",
            "The secret `HF_TOKEN` does not exist in your Colab secrets.\n",
            "To authenticate with the Hugging Face Hub, create a token in your settings tab (https://huggingface.co/settings/tokens), set it as secret in your Google Colab and restart your session.\n",
            "You will be able to reuse this secret in all of your notebooks.\n",
            "Please note that authentication is recommended but still optional to access public models or datasets.\n",
            "  warnings.warn(\n",
            "Using cache found in /root/.cache/torch/hub/huggingface_pytorch-transformers_main\n"
          ]
        }
      ],
      "source": [
        "import torch\n",
        "from datasets import load_dataset\n",
        "from torch.utils.data import DataLoader\n",
        "from transformers import BertTokenizerFast\n",
        "#추가\n",
        "from torch.nn.utils.rnn import pad_sequence\n",
        "from tokenizers import (\n",
        "    decoders,\n",
        "    models,\n",
        "    normalizers,\n",
        "    pre_tokenizers,\n",
        "    processors,\n",
        "    trainers,\n",
        "    Tokenizer,\n",
        ")\n",
        "\n",
        "\n",
        "# ds = load_dataset(\"stanfordnlp/imdb\") -> IMDB 영화 리뷰 데이터 셋을 가져옴/로드함\n",
        "train_ds = load_dataset(\"stanfordnlp/imdb\", split=\"train\")\n",
        "test_ds = load_dataset(\"stanfordnlp/imdb\", split=\"test\")\n",
        "\n",
        "#BertTokenizerFast를 사용하여 텍스트를 토큰화(BERT토크나이저)\n",
        "tokenizer = torch.hub.load('huggingface/pytorch-transformers', 'tokenizer', 'bert-base-uncased')\n",
        "\n",
        "# collate_fn 수정 — 마지막 단어 예측용으로 변형\n",
        "def collate_fn(batch):\n",
        "  max_len = 400\n",
        "  texts, labels = [], []\n",
        "\n",
        "  for row in batch:\n",
        "    tokenized = tokenizer(row['text'], truncation=True, max_length=max_len, add_special_tokens=False).input_ids\n",
        "    if len(tokenized) < 2:\n",
        "      continue\n",
        "    labels.append(tokenized[-1])  # 마지막 단어 (진짜 단어)\n",
        "    texts.append(torch.LongTensor(tokenized[:-1]))  # 마지막 단어 제외하고 입력\n",
        "\n",
        "  if len(texts) == 0:\n",
        "    return torch.LongTensor([[tokenizer.pad_token_id]]), torch.LongTensor([0])\n",
        "\n",
        "  texts = pad_sequence(texts, batch_first=True, padding_value=tokenizer.pad_token_id)\n",
        "  labels = torch.LongTensor(labels)\n",
        "\n",
        "  return texts, labels\n",
        "'''2차수정\n",
        "def collate_fn(batch): ### 여기가 수정부분\n",
        "  max_len = 400\n",
        "  texts, labels = [], []\n",
        "\n",
        "  for row in batch:\n",
        "    tokenized = tokenizer(row['text'], truncation=True, max_length=max_len).input_ids\n",
        "    labels.append(tokenized[-1])  # 마지막 token을 예측 대상\n",
        "    texts.append(torch.LongTensor(tokenized[:-1]))  # 마지막 token 제거한 input\n",
        "                                                    # 마지막 token 하나만 정답(label)로 사용\n",
        "\n",
        "  texts = pad_sequence(texts, batch_first=True, padding_value=tokenizer.pad_token_id)\n",
        "  labels = torch.LongTensor(labels)\n",
        "\n",
        "  return texts, labels'''\n",
        "'''1차수정\n",
        "#collate_fn을 정의하여 배치별 데이터 처리\n",
        "def collate_fn(batch):\n",
        "  max_len = 400\n",
        "  texts, labels = [], []\n",
        "  for row in batch:\n",
        "    labels.append(row['label'])\n",
        "    texts.append(row['text'])\n",
        "\n",
        "  texts = torch.LongTensor(tokenizer(texts, padding=True, truncation=True, max_length=max_len).input_ids)\n",
        "  labels = torch.LongTensor(labels)\n",
        "\n",
        "  return texts, labels\n",
        "'''\n",
        "\n",
        "train_loader = DataLoader(\n",
        "    train_ds, batch_size=64, shuffle=True, collate_fn=collate_fn\n",
        ")\n",
        "test_loader = DataLoader(\n",
        "    test_ds, batch_size=64, shuffle=False, collate_fn=collate_fn\n",
        ")"
      ]
    },
    {
      "cell_type": "markdown",
      "metadata": {
        "id": "i-FshZcTZBQ2"
      },
      "source": [
        "## Self-attention\n",
        "\n",
        "이번에는 self-attention을 구현해보겠습니다.\n",
        "Self-attention은 shape이 (B, S, D)인 embedding이 들어왔을 때 attention을 적용하여 새로운 representation을 만들어내는 module입니다.\n",
        "여기서 B는 batch size, S는 sequence length, D는 embedding 차원입니다.\n",
        "구현은 다음과 같습니다.\n",
        "\n",
        "\n",
        "(추가)[참고]\n",
        "TextClassifier가 사용하는 SelfAttention 클래스는\n",
        "TransformerLayer 클래스 안에서 사용되고,\n",
        "TransformerLayer는 SelfAttention에 의존합니다.\n",
        "\n",
        "아래 순서로 진행\n",
        "1.SelfAttention 클래스 정의\n",
        "2.TransformerLayer 클래스 정의\n",
        "3.TextClassifier 클래스 정의\n",
        "4.model = TextClassifier(...) 실행"
      ]
    },
    {
      "cell_type": "code",
      "execution_count": null,
      "metadata": {
        "id": "MBlMVMZcRAxv"
      },
      "outputs": [],
      "source": [
        "from torch import nn\n",
        "from math import sqrt\n",
        "\n",
        "# SelfAttention 클래스 정의\n",
        "#Single-head Self-Attentionx\n",
        "class SelfAttention(nn.Module):\n",
        "  def __init__(self, input_dim, d_model):\n",
        "    super().__init__()\n",
        "\n",
        "    self.input_dim = input_dim\n",
        "    self.d_model = d_model\n",
        "\n",
        "    self.wq = nn.Linear(input_dim, d_model)\n",
        "    self.wk = nn.Linear(input_dim, d_model)\n",
        "    self.wv = nn.Linear(input_dim, d_model)\n",
        "    self.dense = nn.Linear(d_model, d_model)\n",
        "\n",
        "    self.softmax = nn.Softmax(dim=-1)\n",
        "\n",
        "#쿼리(Q), 키(K), 값(V)를 생성하고, 스케일링 후 소프트맥스를 적용하여 가중합을 구한다\n",
        "  def forward(self, x, mask):\n",
        "    q, k, v = self.wq(x), self.wk(x), self.wv(x)\n",
        "    score = torch.matmul(q, k.transpose(-1, -2)) # (B, S, D) * (B, D, S) = (B, S, S)\n",
        "    score = score / sqrt(self.d_model) #sqrt(d_model)으로 나눠서 값 안정화\n",
        "\n",
        "    if mask is not None:\n",
        "      score = score + (mask * -1e9)\n",
        "\n",
        "    #softmax로 attention weight 생성\n",
        "    score = self.softmax(score)\n",
        "    result = torch.matmul(score, v) #weighted sum 결과\n",
        "    result = self.dense(result) #다른 차원으로 다시매핑\n",
        "\n",
        "    return result"
      ]
    },
    {
      "cell_type": "markdown",
      "metadata": {
        "id": "-S0vMp85ZRNO"
      },
      "source": [
        "대부분은 Transformer 챕터에서 배운 수식들을 그대로 구현한 것에 불과합니다.\n",
        "차이점은 `mask`의 존재여부입니다.\n",
        "이전 챕터에서 우리는 가변적인 text data들에 padding token을 붙여 하나의 matrix로 만든 방법을 배웠습니다.\n",
        "실제 attention 계산에서는 이를 무시해주기 위해 mask를 만들어 제공해주게 됩니다.\n",
        "여기서 mask의 shape은 (B, S, 1)로, 만약 `mask[i, j] = True`이면 그 변수는 padding token에 해당한다는 뜻입니다.\n",
        "이러한 값들을 무시해주는 방법은 shape이 (B, S, S)인 `score`가 있을 때(수업에서 배운 $A$와 동일) `score[i, j]`에 아주 작은 값을 더해주면 됩니다. 아주 작은 값은 예를 들어 `-1000..00 = -1e9` 같은 것이 있습니다.\n",
        "이렇게 작은 값을 더해주고 나면 softmax를 거쳤을 때 0에 가까워지기 때문에 weighted sum 과정에서 padding token에 해당하는 `v` 값들을 무시할 수 있게 됩니다.\n",
        "\n",
        "다음은 self-attention과 feed-forward layer를 구현한 모습입니다."
      ]
    },
    {
      "cell_type": "code",
      "execution_count": null,
      "metadata": {
        "id": "VZHPCn9AS5Gp"
      },
      "outputs": [],
      "source": [
        "#Transformer Layer\n",
        "#Self-Attention을 적용한 후 피드포워드 네트워크를 통과\n",
        "\n",
        "class TransformerLayer(nn.Module):\n",
        "  def __init__(self, input_dim, d_model, dff):\n",
        "    super().__init__()\n",
        "\n",
        "    self.sa = SelfAttention(input_dim, d_model)\n",
        "    self.ffn = nn.Sequential( #ffn -> feed-forward 네트워크\n",
        "      nn.Linear(d_model, dff),\n",
        "      nn.ReLU(),\n",
        "      nn.Linear(dff, d_model)\n",
        "    )\n",
        "\n",
        "  def forward(self, x, mask):\n",
        "    x = self.sa(x, mask)\n",
        "    x = self.ffn(x)\n",
        "    return x"
      ]
    },
    {
      "cell_type": "markdown",
      "metadata": {
        "id": "O_xC9BQJaU4q"
      },
      "source": [
        "보시다시피 self-attention의 구현이 어렵지, Transformer layer 하나 구현하는 것은 수업 때 다룬 그림과 크게 구분되지 않는다는 점을 알 수 있습니다."
      ]
    },
    {
      "cell_type": "markdown",
      "metadata": {
        "id": "J3VYrqTJagS1"
      },
      "source": [
        "## Positional encoding\n",
        "\n",
        "이번에는 positional encoding을 구현합니다. Positional encoding의 식은 다음과 같습니다:\n",
        "$$\n",
        "\\begin{align*} PE_{pos, 2i} &= \\sin\\left( \\frac{pos}{10000^{2i/D}} \\right), \\\\ PE_{pos, 2i+1} &= \\cos\\left( \\frac{pos}{10000^{2i/D}} \\right).\\end{align*}\n",
        "$$\n",
        "\n",
        "이를 Numpy로 구현하여 PyTorch tensor로 변환한 모습은 다음과 같습니다:"
      ]
    },
    {
      "cell_type": "code",
      "execution_count": null,
      "metadata": {
        "colab": {
          "base_uri": "https://localhost:8080/",
          "height": 36
        },
        "id": "Uf_jMQWDUR79",
        "outputId": "b04fa916-d805-4577-cc99-b9ce11c916a9"
      },
      "outputs": [
        {
          "data": {
            "application/vnd.google.colaboratory.intrinsic+json": {
              "type": "string"
            },
            "text/plain": [
              "'\\nprint(positional_encoding(max_len, 256).shape)'"
            ]
          },
          "execution_count": 5,
          "metadata": {},
          "output_type": "execute_result"
        }
      ],
      "source": [
        "#Positional Encoding 정의\n",
        "import numpy as np\n",
        "\n",
        "\n",
        "def get_angles(pos, i, d_model):\n",
        "    angle_rates = 1 / np.power(10000, (2 * (i // 2)) / np.float32(d_model))\n",
        "    return pos * angle_rates\n",
        "\n",
        "#위치 정보를 반영하기 위해 사인 및 코사인 함수를 활용한 포지셔널 인코딩을 추가\n",
        "#위치별로 주기적 신호(사인/코사인)을 다르게 넣어줘서 모델이 위치를 감지할 수 있게 함\n",
        "def positional_encoding(position, d_model):\n",
        "    angle_rads = get_angles(np.arange(position)[:, None], np.arange(d_model)[None, :], d_model)\n",
        "    #짝수인덱스 : sin(사인)\n",
        "    angle_rads[:, 0::2] = np.sin(angle_rads[:, 0::2])\n",
        "    #홀수인덱스 : cos(코사인)\n",
        "    angle_rads[:, 1::2] = np.cos(angle_rads[:, 1::2])\n",
        "    pos_encoding = angle_rads[None, ...]\n",
        "\n",
        "    return torch.FloatTensor(pos_encoding)\n",
        "\n",
        "\n",
        "max_len = 400 # 이 값도 모델과 함께 사용\n",
        "\n",
        "'''\n",
        "print(positional_encoding(max_len, 256).shape)'''"
      ]
    },
    {
      "cell_type": "markdown",
      "metadata": {
        "id": "5unoDcBva3eN"
      },
      "source": [
        "Positional encoding은 `angle_rads`를 구현하는 과정에서 모두 구현이 되었습니다. 여기서 `angle_rads`의 shape은 (S, D)입니다.\n",
        "우리는 일반적으로 batch로 주어지는 shape이 (B, S, D)인 tensor를 다루기 때문에 마지막에 None을 활용하여 shape을 (1, S, D)로 바꿔주게됩니다.\n",
        "\n",
        "위에서 구현한 `TransformerLayer`와 positional encoding을 모두 합친 모습은 다음과 같습니다:"
      ]
    },
    {
      "cell_type": "code",
      "execution_count": null,
      "metadata": {
        "colab": {
          "base_uri": "https://localhost:8080/",
          "height": 143
        },
        "id": "8MaiCGh8TsDH",
        "outputId": "1de0add6-8d8c-439c-8a45-d29b411694de"
      },
      "outputs": [
        {
          "data": {
            "application/vnd.google.colaboratory.intrinsic+json": {
              "type": "string"
            },
            "text/plain": [
              "'\\nclass TextClassifier(nn.Module):\\n  def __init__(self, vocab_size, d_model, n_layers, dff):\\n    super().__init__()\\n\\n    self.vocab_size = vocab_size\\n    self.d_model = d_model\\n    self.n_layers = n_layers\\n    self.dff = dff\\n\\n    self.embedding = nn.Embedding(vocab_size, d_model)\\n    #학습되지 않는 파라미터로 위치정보 고정\\n    self.pos_encoding = nn.parameter.Parameter(positional_encoding(max_len, d_model), requires_grad=False)\\n    self.layers = nn.ModuleList([TransformerLayer(d_model, d_model, dff) for _ in range(n_layers)])\\n    self.classification = nn.Linear(d_model, 1)\\n\\n  def forward(self, x):\\n    mask = (x == tokenizer.pad_token_id)\\n    mask = mask[:, None, :]\\n    seq_len = x.shape[1]\\n\\n    #정적인 positional encoding을 임베딩에 더해서 사용 \\n    #이 방식은 학습 없이도 순서 정보가 모델에 주입됨\\n    x = self.embedding(x)\\n    x = x * sqrt(self.d_model)\\n    x = x + self.pos_encoding[:, :seq_len]\\n\\n    for layer in self.layers:\\n      x = layer(x, mask)\\n\\n    x = x[:, 0]\\n    x = self.classification(x)\\n\\n    return x\\n\\n\\nmodel = TextClassifier(len(tokenizer), 32, 2, 32)'"
            ]
          },
          "execution_count": 6,
          "metadata": {},
          "output_type": "execute_result"
        }
      ],
      "source": [
        "#Text Classifier정의\n",
        "#임베딩, 포지셔널 인코딩, Transformer 레이어, 그리고 최종분류 층을 포함한 텍스트 분류 모델을 정의\n",
        "#classification -> vocab_size, 출력 위치도 변경\n",
        "\n",
        "class TextClassifier(nn.Module):  ### 여기가 수정부분\n",
        "  def __init__(self, vocab_size, d_model, n_layers, dff):\n",
        "    super().__init__()\n",
        "    self.embedding = nn.Embedding(vocab_size, d_model)\n",
        "    self.pos_encoding = nn.parameter.Parameter(positional_encoding(max_len, d_model), requires_grad=False)\n",
        "    self.layers = nn.ModuleList([TransformerLayer(d_model, d_model, dff) for _ in range(n_layers)])\n",
        "    self.classification = nn.Linear(d_model, vocab_size)  # 마지막 단어 분류\n",
        "\n",
        "  def forward(self, x):\n",
        "    mask = (x == tokenizer.pad_token_id)\n",
        "    mask = mask[:, None, :]\n",
        "    seq_len = x.shape[1]\n",
        "\n",
        "    x = self.embedding(x)\n",
        "    x = x * sqrt(self.embedding.embedding_dim)\n",
        "    x = x + self.pos_encoding[:, :seq_len]\n",
        "\n",
        "    for layer in self.layers:\n",
        "      x = layer(x, mask)\n",
        "\n",
        "    x = x[:, -1]  # 마지막 위치만 출력\n",
        "    x = self.classification(x)\n",
        "\n",
        "    return x\n",
        "\n",
        "model = TextClassifier(len(tokenizer), 32, 2, 32)\n",
        "\n",
        "'''\n",
        "class TextClassifier(nn.Module):\n",
        "  def __init__(self, vocab_size, d_model, n_layers, dff):\n",
        "    super().__init__()\n",
        "\n",
        "    self.vocab_size = vocab_size\n",
        "    self.d_model = d_model\n",
        "    self.n_layers = n_layers\n",
        "    self.dff = dff\n",
        "\n",
        "    self.embedding = nn.Embedding(vocab_size, d_model)\n",
        "    #학습되지 않는 파라미터로 위치정보 고정\n",
        "    self.pos_encoding = nn.parameter.Parameter(positional_encoding(max_len, d_model), requires_grad=False)\n",
        "    self.layers = nn.ModuleList([TransformerLayer(d_model, d_model, dff) for _ in range(n_layers)])\n",
        "    self.classification = nn.Linear(d_model, 1)\n",
        "\n",
        "  def forward(self, x):\n",
        "    mask = (x == tokenizer.pad_token_id)\n",
        "    mask = mask[:, None, :]\n",
        "    seq_len = x.shape[1]\n",
        "\n",
        "    #정적인 positional encoding을 임베딩에 더해서 사용\n",
        "    #이 방식은 학습 없이도 순서 정보가 모델에 주입됨\n",
        "    x = self.embedding(x)\n",
        "    x = x * sqrt(self.d_model)\n",
        "    x = x + self.pos_encoding[:, :seq_len]\n",
        "\n",
        "    for layer in self.layers:\n",
        "      x = layer(x, mask)\n",
        "\n",
        "    x = x[:, 0]\n",
        "    x = self.classification(x)\n",
        "\n",
        "    return x\n",
        "\n",
        "\n",
        "model = TextClassifier(len(tokenizer), 32, 2, 32)'''"
      ]
    },
    {
      "cell_type": "markdown",
      "metadata": {
        "id": "XXpjPWHjbUK8"
      },
      "source": [
        "기존과 다른 점들은 다음과 같습니다:\n",
        "1. `nn.ModuleList`를 사용하여 여러 layer의 구현을 쉽게 하였습니다.\n",
        "2. Embedding, positional encoding, transformer layer를 거치고 난 후 마지막 label을 예측하기 위해 사용한 값은 `x[:, 0]`입니다. 기존의 RNN에서는 padding token을 제외한 마지막 token에 해당하는 representation을 사용한 것과 다릅니다. 이렇게 사용할 수 있는 이유는 attention 과정을 보시면 첫 번째 token에 대한 representation은 이후의 모든 token의 영향을 받습니다. 즉, 첫 번째 token 또한 전체 문장을 대변하는 의미를 가지고 있다고 할 수 있습니다. 그래서 일반적으로 Transformer를 text 분류에 사용할 때는 이와 같은 방식으로 구현됩니다."
      ]
    },
    {
      "cell_type": "markdown",
      "metadata": {
        "id": "QDq05OlAb2lB"
      },
      "source": [
        "## 학습\n",
        "\n",
        "학습하는 코드는 기존 실습들과 동일하기 때문에 마지막 결과만 살펴보도록 하겠습니다."
      ]
    },
    {
      "cell_type": "code",
      "execution_count": null,
      "metadata": {
        "colab": {
          "base_uri": "https://localhost:8080/",
          "height": 36
        },
        "id": "YHVVsWBPQmnv",
        "outputId": "36d0078b-b661-46ad-8b83-1369d413280d"
      },
      "outputs": [
        {
          "data": {
            "application/vnd.google.colaboratory.intrinsic+json": {
              "type": "string"
            },
            "text/plain": [
              "'\\n# BCEWithLogisticLoss를 손실 함수로 사용하고 Adam옵티마이저를 활용하여 학습\\nloss_fn = nn.BCEWithLogitsLoss()\\n'"
            ]
          },
          "execution_count": 7,
          "metadata": {},
          "output_type": "execute_result"
        }
      ],
      "source": [
        "from torch.optim import Adam\n",
        "#추가(이건 단어 예측처럼 클래스 개수가 많을 때 (여기선 vocab_size만큼) 사용하는 손실 함수)\n",
        "#수정 전: BCEWithLogitsLoss() ← 이진 분류용\n",
        "#수정 후: CrossEntropyLoss() ← 다중 클래스 분류용 (단어 예측)\n",
        "from torch.nn import CrossEntropyLoss\n",
        "\n",
        "loss_fn = CrossEntropyLoss() # 손실함수 수정 - BCE -> CrossEntropy\n",
        "\n",
        "lr = 0.001\n",
        "optimizer = Adam(model.parameters(), lr=lr)\n",
        "model = model.to('cuda')\n",
        "\n",
        "\n",
        "'''\n",
        "# BCEWithLogisticLoss를 손실 함수로 사용하고 Adam옵티마이저를 활용하여 학습\n",
        "loss_fn = nn.BCEWithLogitsLoss()\n",
        "'''"
      ]
    },
    {
      "cell_type": "code",
      "execution_count": null,
      "metadata": {
        "colab": {
          "base_uri": "https://localhost:8080/",
          "height": 72
        },
        "id": "r88BALxO1zc1",
        "outputId": "0ce6bcd2-ff13-435a-fb9b-c9c351eaa6cc"
      },
      "outputs": [
        {
          "data": {
            "application/vnd.google.colaboratory.intrinsic+json": {
              "type": "string"
            },
            "text/plain": [
              "\"\\n#accuracy함수를 정의하여 모델의 정확도 평가\\ndef accuracy(model, dataloader):\\n  cnt = 0\\n  acc = 0\\n\\n  for data in dataloader:\\n    inputs, labels = data\\n    inputs, labels = inputs.to('cuda'), labels.to('cuda')\\n\\n    preds = model(inputs)\\n    # preds = torch.argmax(preds, dim=-1)\\n    preds = (preds > 0).long()[..., 0]\\n\\n    cnt += labels.shape[0]\\n    acc += (labels == preds).sum().item()\\n\\n  return acc / cnt\""
            ]
          },
          "execution_count": 8,
          "metadata": {},
          "output_type": "execute_result"
        }
      ],
      "source": [
        "# 정확도 계산도 argmax기준으로 변경\n",
        "import numpy as np\n",
        "import matplotlib.pyplot as plt\n",
        "\n",
        "def accuracy(model, dataloader): #이부분 수정\n",
        "  cnt = 0\n",
        "  acc = 0\n",
        "\n",
        "  for data in dataloader:\n",
        "    inputs, labels = data\n",
        "    inputs, labels = inputs.to('cuda'), labels.to('cuda')\n",
        "\n",
        "    preds = model(inputs)\n",
        "    preds = torch.argmax(preds, dim=-1)\n",
        "\n",
        "    acc += (preds == labels).sum().item()\n",
        "    cnt += labels.shape[0]\n",
        "\n",
        "  return acc / cnt\n",
        "\n",
        "\n",
        "\n",
        "'''\n",
        "#accuracy함수를 정의하여 모델의 정확도 평가\n",
        "def accuracy(model, dataloader):\n",
        "  cnt = 0\n",
        "  acc = 0\n",
        "\n",
        "  for data in dataloader:\n",
        "    inputs, labels = data\n",
        "    inputs, labels = inputs.to('cuda'), labels.to('cuda')\n",
        "\n",
        "    preds = model(inputs)\n",
        "    # preds = torch.argmax(preds, dim=-1)\n",
        "    preds = (preds > 0).long()[..., 0]\n",
        "\n",
        "    cnt += labels.shape[0]\n",
        "    acc += (labels == preds).sum().item()\n",
        "\n",
        "  return acc / cnt'''"
      ]
    },
    {
      "cell_type": "code",
      "execution_count": null,
      "metadata": {
        "colab": {
          "background_save": true,
          "base_uri": "https://localhost:8080/"
        },
        "id": "al_b56TYRILq",
        "outputId": "25cac42e-bd31-44a8-a9d3-9a8f189c2770"
      },
      "outputs": [
        {
          "name": "stdout",
          "output_type": "stream",
          "text": [
            "🎯 디버깅 출력 시작\n",
            "loss: 10.283707618713379\n",
            "labels dtype: torch.int64\n",
            "labels sample: tensor([6582, 1012, 1012, 1012, 9055], device='cuda:0')\n",
            "preds shape: torch.Size([64, 30522])\n",
            "preds sample: tensor([ 0.2103, -0.1811, -0.1987, -0.0881, -0.1216], device='cuda:0',\n",
            "       grad_fn=<SliceBackward0>)\n",
            "Epoch   0 | Avg Train Loss: 0.0000\n",
            "Epoch   1 | Avg Train Loss: 3.6570\n",
            "Epoch   2 | Avg Train Loss: 2.7941\n",
            "Epoch   3 | Avg Train Loss: 2.6600\n",
            "Epoch   4 | Avg Train Loss: 2.6107\n",
            "Epoch   5 | Avg Train Loss: 2.5806\n",
            "Epoch   6 | Avg Train Loss: 2.5560\n",
            "Epoch   7 | Avg Train Loss: 2.5413\n",
            "Epoch   8 | Avg Train Loss: 2.5074\n",
            "Epoch   9 | Avg Train Loss: 2.4840\n",
            "Epoch  10 | Avg Train Loss: 2.4511\n",
            "Epoch  11 | Avg Train Loss: 2.4179\n",
            "Epoch  12 | Avg Train Loss: 2.3844\n",
            "Epoch  13 | Avg Train Loss: 2.3512\n",
            "Epoch  14 | Avg Train Loss: 2.3202\n",
            "Epoch  15 | Avg Train Loss: 2.2787\n",
            "Epoch  16 | Avg Train Loss: 2.2463\n",
            "Epoch  17 | Avg Train Loss: 2.2147\n",
            "Epoch  18 | Avg Train Loss: 2.1844\n",
            "Epoch  19 | Avg Train Loss: 2.1407\n",
            "Epoch  20 | Avg Train Loss: 2.1082\n",
            "Epoch  21 | Avg Train Loss: 2.0719\n",
            "Epoch  22 | Avg Train Loss: 2.0549\n",
            "Epoch  23 | Avg Train Loss: 2.0233\n",
            "Epoch  24 | Avg Train Loss: 1.9918\n",
            "Epoch  25 | Avg Train Loss: 1.9756\n",
            "Epoch  26 | Avg Train Loss: 1.9440\n",
            "Epoch  27 | Avg Train Loss: 1.9175\n",
            "Epoch  28 | Avg Train Loss: 1.8917\n",
            "Epoch  29 | Avg Train Loss: 1.8763\n",
            "Epoch  30 | Avg Train Loss: 1.8356\n",
            "Epoch  31 | Avg Train Loss: 1.8097\n",
            "Epoch  32 | Avg Train Loss: 1.7985\n",
            "Epoch  33 | Avg Train Loss: 1.7903\n",
            "Epoch  34 | Avg Train Loss: 1.7506\n",
            "Epoch  35 | Avg Train Loss: 1.7210\n",
            "Epoch  36 | Avg Train Loss: 1.7153\n",
            "Epoch  37 | Avg Train Loss: 1.7002\n",
            "Epoch  38 | Avg Train Loss: 1.6510\n",
            "Epoch  39 | Avg Train Loss: 1.6584\n",
            "Epoch  40 | Avg Train Loss: 1.5979\n",
            "Epoch  41 | Avg Train Loss: 1.5690\n",
            "Epoch  42 | Avg Train Loss: 1.5484\n",
            "Epoch  43 | Avg Train Loss: 1.5417\n",
            "Epoch  44 | Avg Train Loss: 1.5280\n",
            "Epoch  45 | Avg Train Loss: 1.5391\n",
            "Epoch  46 | Avg Train Loss: 1.4963\n",
            "Epoch  47 | Avg Train Loss: 1.4672\n",
            "Epoch  48 | Avg Train Loss: 1.4182\n",
            "Epoch  49 | Avg Train Loss: 1.4197\n",
            "=========> Train acc: 0.670 | Test acc: 0.518\n"
          ]
        },
        {
          "data": {
            "image/png": "[encoded data removed]",
            "text/plain": [
              "<Figure size 640x480 with 1 Axes>"
            ]
          },
          "metadata": {},
          "output_type": "display_data"
        }
      ],
      "source": [
        "n_epochs = 50\n",
        "train_losses = [] #에폭별 평균 loss 저장용 리스트\n",
        "\n",
        "#학습루프 부분 수정\n",
        "for epoch in range(n_epochs):\n",
        "  total_loss = 0.\n",
        "  model.train()\n",
        "  for data in train_loader:\n",
        "    model.zero_grad()\n",
        "    inputs, labels = data\n",
        "    inputs, labels = inputs.to('cuda'), labels.to('cuda')\n",
        "\n",
        "    preds = model(inputs)\n",
        "    loss = loss_fn(preds, labels)\n",
        "\n",
        "\n",
        "\n",
        "    # ✅ 여기부터 디버깅용 출력\n",
        "    if epoch == 0 and total_loss == 0:  # 첫 에폭의 첫 배치만 출력\n",
        "        print(\"🎯 디버깅 출력 시작\")\n",
        "        print(\"loss:\", loss.item())\n",
        "        print(\"labels dtype:\", labels.dtype)\n",
        "        print(\"labels sample:\", labels[:5])\n",
        "        print(\"preds shape:\", preds.shape)\n",
        "        print(\"preds sample:\", preds[0][:5])\n",
        "        break  # 첫 배치만 확인\n",
        "\n",
        "\n",
        "    loss.backward()\n",
        "    optimizer.step()\n",
        "\n",
        "    total_loss += loss.item()\n",
        "\n",
        "  #loss 그래프 시각화\n",
        "  avg_loss = total_loss / len(train_loader)  # 🔸 평균 loss 계산\n",
        "  train_losses.append(avg_loss)  # 🔸 loss 저장\n",
        "\n",
        "  print(f\"Epoch {epoch:3d} | Avg Train Loss: {avg_loss:.4f}\")\n",
        "\n",
        "# 결과출력\n",
        "with torch.no_grad():\n",
        "  model.eval()\n",
        "  train_acc = accuracy(model, train_loader)\n",
        "  test_acc = accuracy(model, test_loader)\n",
        "  print(f\"=========> Train acc: {train_acc:.3f} | Test acc: {test_acc:.3f}\")\n",
        "\n",
        "'''\n",
        "  with torch.no_grad():\n",
        "    model.eval()\n",
        "    train_acc = accuracy(model, train_loader)\n",
        "    test_acc = accuracy(model, test_loader)\n",
        "    print(f\"=========> Train acc: {train_acc:.3f} | Test acc: {test_acc:.3f}\")\n",
        "'''\n",
        "\n",
        "# 🔻 학습 loss 시각화\n",
        "import matplotlib.pyplot as plt\n",
        "plt.plot(train_losses, marker='o')\n",
        "plt.title(\"Training Loss Over Epochs\")\n",
        "plt.xlabel(\"Epoch\")\n",
        "plt.ylabel(\"Loss\")\n",
        "plt.grid(True)\n",
        "plt.show()"
      ]
    },
    {
      "cell_type": "markdown",
      "metadata": {
        "id": "WqZays2yb8Ja"
      },
      "source": [
        "학습이 안정적으로 진행되며 RNN보다 빨리 수렴하는 것을 확인할 수 있습니다.\n",
        "하지만 test 정확도가 RNN보다 낮은 것을 보았을 때, overfitting에 취약하다는 것을 알 수 있습니다."
      ]
    },
    {
      "cell_type": "code",
      "execution_count": null,
      "metadata": {
        "colab": {
          "background_save": true
        },
        "id": "u-I121osywgW"
      },
      "outputs": [],
      "source": []
    }
  ],
  "metadata": {
    "accelerator": "GPU",
    "colab": {
      "gpuType": "T4",
      "provenance": [],
      "include_colab_link": true
    },
    "kernelspec": {
      "display_name": "Python 3 (ipykernel)",
      "language": "python",
      "name": "python3"
    },
    "language_info": {
      "codemirror_mode": {
        "name": "ipython",
        "version": 3
      },
      "file_extension": ".py",
      "mimetype": "text/x-python",
      "name": "python",
      "nbconvert_exporter": "python",
      "pygments_lexer": "ipython3",
      "version": "3.10.14"
    }
  },
  "nbformat": 4,
  "nbformat_minor": 0
}
