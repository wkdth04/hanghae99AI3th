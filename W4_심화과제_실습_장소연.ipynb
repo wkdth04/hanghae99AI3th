{
  "nbformat": 4,
  "nbformat_minor": 0,
  "metadata": {
    "colab": {
      "provenance": [],
      "authorship_tag": "ABX9TyN4JU1LsJrbFgvJm8dlrgoV",
      "include_colab_link": true
    },
    "kernelspec": {
      "name": "python3",
      "display_name": "Python 3"
    },
    "language_info": {
      "name": "python"
    }
  },
  "cells": [
    {
      "cell_type": "markdown",
      "metadata": {
        "id": "view-in-github",
        "colab_type": "text"
      },
      "source": [
        "<a href=\"https://colab.research.google.com/github/wkdth04/hanghae99AI3th/blob/%EA%B3%BC%EC%A0%9C/W4_%EC%8B%AC%ED%99%94%EA%B3%BC%EC%A0%9C_%EC%8B%A4%EC%8A%B5_%EC%9E%A5%EC%86%8C%EC%97%B0.ipynb\" target=\"_parent\"><img src=\"https://colab.research.google.com/assets/colab-badge.svg\" alt=\"Open In Colab\"/></a>"
      ]
    },
    {
      "cell_type": "code",
      "execution_count": null,
      "metadata": {
        "id": "3Aj4xBCyaE_d"
      },
      "outputs": [],
      "source": []
    }
  ]
}